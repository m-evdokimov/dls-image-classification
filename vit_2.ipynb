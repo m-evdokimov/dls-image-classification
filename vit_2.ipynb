{
  "nbformat": 4,
  "nbformat_minor": 0,
  "metadata": {
    "colab": {
      "name": "vit_2.ipynb",
      "provenance": [],
      "collapsed_sections": [],
      "authorship_tag": "ABX9TyOU/1pBrGKLh1uW/Wo70KpS",
      "include_colab_link": true
    },
    "kernelspec": {
      "name": "python3",
      "display_name": "Python 3"
    },
    "language_info": {
      "name": "python"
    },
    "accelerator": "GPU"
  },
  "cells": [
    {
      "cell_type": "markdown",
      "metadata": {
        "id": "view-in-github",
        "colab_type": "text"
      },
      "source": [
        "<a href=\"https://colab.research.google.com/github/m-evdokimov/dls-image-classification/blob/main/vit_2.ipynb\" target=\"_parent\"><img src=\"https://colab.research.google.com/assets/colab-badge.svg\" alt=\"Open In Colab\"/></a>"
      ]
    },
    {
      "cell_type": "markdown",
      "metadata": {
        "id": "deEj2Hc5pA8x"
      },
      "source": [
        "# Image classification (ViT, part 2)"
      ]
    },
    {
      "cell_type": "code",
      "metadata": {
        "id": "gy1-uoSVFZNT"
      },
      "source": [
        "!pip install transformers"
      ],
      "execution_count": null,
      "outputs": []
    },
    {
      "cell_type": "code",
      "metadata": {
        "id": "sBu-qxPXbgWj"
      },
      "source": [
        "from google.colab import drive\n",
        "drive.mount('/content/drive')"
      ],
      "execution_count": null,
      "outputs": []
    },
    {
      "cell_type": "code",
      "metadata": {
        "id": "i9c1pwqFby7c"
      },
      "source": [
        "!cp /content/drive/MyDrive/best-val-model.pt best-val-model.pt"
      ],
      "execution_count": null,
      "outputs": []
    },
    {
      "cell_type": "code",
      "metadata": {
        "id": "1mJX7oSv2Eay"
      },
      "source": [
        "!nvidia-smi"
      ],
      "execution_count": null,
      "outputs": []
    },
    {
      "cell_type": "code",
      "metadata": {
        "id": "ASYrGnHA-EST",
        "colab": {
          "base_uri": "https://localhost:8080/",
          "height": 37
        },
        "outputId": "98f50692-4a0c-43f0-d09d-b5d7e1d21b52"
      },
      "source": [
        "import numpy as np\n",
        "import torch\n",
        "from torch.utils.data import DataLoader, Subset\n",
        "import torchvision\n",
        "from torchvision import transforms\n",
        "import matplotlib.pyplot as plt\n",
        "from IPython.display import clear_output\n",
        "from PIL import Image\n",
        "import tqdm\n",
        "\n",
        "from transformers import ViTFeatureExtractor, ViTForImageClassification, ViTConfig\n",
        "from transformers import get_cosine_schedule_with_warmup\n",
        "\n",
        "device = 'cuda' if torch.cuda.is_available() else 'cpu'\n",
        "device"
      ],
      "execution_count": null,
      "outputs": [
        {
          "output_type": "execute_result",
          "data": {
            "application/vnd.google.colaboratory.intrinsic+json": {
              "type": "string"
            },
            "text/plain": [
              "'cuda'"
            ]
          },
          "metadata": {
            "tags": []
          },
          "execution_count": 3
        }
      ]
    },
    {
      "cell_type": "markdown",
      "metadata": {
        "id": "yvKzltAL670x"
      },
      "source": [
        "# Training ViT from scratch"
      ]
    },
    {
      "cell_type": "code",
      "metadata": {
        "id": "KJqmaeRJDGyq"
      },
      "source": [
        "# init model and feature extractor\n",
        "cfg = ViTConfig(**{\"id2label\": {\n",
        "                      \"0\": \"LABEL_0\",\n",
        "                      \"1\": \"LABEL_1\",\n",
        "                      \"2\": \"LABEL_2\",\n",
        "                      \"3\": \"LABEL_3\",\n",
        "                      \"4\": \"LABEL_4\",\n",
        "                      \"5\": \"LABEL_5\",\n",
        "                      \"6\": \"LABEL_6\",\n",
        "                      \"7\": \"LABEL_7\",\n",
        "                      \"8\": \"LABEL_8\",\n",
        "                      \"9\": \"LABEL_9\"\n",
        "                    },\n",
        "                    \"label2id\": {\n",
        "                      \"LABEL_0\": 0,\n",
        "                      \"LABEL_1\": 1,\n",
        "                      \"LABEL_2\": 2,\n",
        "                      \"LABEL_3\": 3,\n",
        "                      \"LABEL_4\": 4,\n",
        "                      \"LABEL_5\": 5,\n",
        "                      \"LABEL_6\": 6,\n",
        "                      \"LABEL_7\": 7,\n",
        "                      \"LABEL_8\": 8,\n",
        "                      \"LABEL_9\": 9}},\n",
        "                image_size=32,\n",
        "                num_hidden_layers=4,\n",
        "                num_attention_heads=4,\n",
        "                patch_size=4,\n",
        "                )\n",
        "\n",
        "model = ViTForImageClassification(cfg).to(device)\n",
        "feature_extractor = ViTFeatureExtractor(size=32, image_std=[0.2472, 0.2437, 0.2617], image_mean=[0.4915, 0.4821, 0.4464])"
      ],
      "execution_count": null,
      "outputs": []
    },
    {
      "cell_type": "code",
      "metadata": {
        "id": "U8UYIZmzD03c"
      },
      "source": [
        "train_data = torchvision.datasets.CIFAR10(root='/content/cifar10_train', train=True, download=True)\n",
        "test_data = torchvision.datasets.CIFAR10(root='/content/cifar10_test', train=False, download=True,)"
      ],
      "execution_count": null,
      "outputs": []
    },
    {
      "cell_type": "code",
      "metadata": {
        "id": "9S4QeyKPFSEK"
      },
      "source": [
        "def vit_collate_fn(data):\n",
        "  global feature_extractor\n",
        "  batch_size = len(data)\n",
        "  inputs = feature_extractor([x[0] for x in data], return_tensors='pt')['pixel_values']\n",
        "  labels = []\n",
        "  for i in range(batch_size):\n",
        "    labels.append(data[i][1])\n",
        "  return inputs, torch.LongTensor(labels)"
      ],
      "execution_count": null,
      "outputs": []
    },
    {
      "cell_type": "code",
      "metadata": {
        "id": "cgNNarJy_Hn5"
      },
      "source": [
        "BATCH_SIZE = 256\n",
        "\n",
        "train_subset = Subset(train_data, np.arange(int(len(train_data) * 0.9)))\n",
        "val_subset = Subset(train_data, np.arange(int(len(train_data) * 0.9), len(train_data)))\n",
        "\n",
        "train_loader = DataLoader(train_subset, BATCH_SIZE, shuffle=True, collate_fn=vit_collate_fn)\n",
        "val_loader = DataLoader(val_subset, BATCH_SIZE, shuffle=False, collate_fn=vit_collate_fn)\n",
        "test_loader = DataLoader(test_data, BATCH_SIZE, shuffle=False, collate_fn=vit_collate_fn)"
      ],
      "execution_count": null,
      "outputs": []
    },
    {
      "cell_type": "code",
      "metadata": {
        "id": "JMiQGxmAEeFv"
      },
      "source": [
        "def train(model, optimizer, criterion, CLIP, train_loader):\n",
        "  global device\n",
        "  model.train()\n",
        "  train_true_predicted = 0 \n",
        "  train_size = 0.\n",
        "  train_loss = 0.\n",
        "\n",
        "\n",
        "  for batch in tqdm.tqdm(train_loader, position=0, leave=True):\n",
        "    inputs = batch[0].to(device)\n",
        "    labels = batch[1].to(device)\n",
        "\n",
        "    output = model(inputs)['logits']\n",
        "    pred_labels = torch.argmax(output, dim=-1)\n",
        "\n",
        "    optimizer.zero_grad()\n",
        "    loss = criterion(output, labels)\n",
        "    loss.backward()\n",
        "    torch.nn.utils.clip_grad_norm_(model.parameters(), CLIP)\n",
        "    optimizer.step()\n",
        "\n",
        "    train_loss += loss.item()\n",
        "    train_true_predicted += (labels == pred_labels).sum()\n",
        "    train_size += int(labels.shape[0])\n",
        "\n",
        "\n",
        "  avg_train_loss = float(train_loss / len(train_loader))\n",
        "  train_acc = float(train_true_predicted / train_size)\n",
        "  return avg_train_loss, train_acc"
      ],
      "execution_count": null,
      "outputs": []
    },
    {
      "cell_type": "code",
      "metadata": {
        "id": "fHkSwSD7F1qa"
      },
      "source": [
        "def evaluate(model, criterion, val_loader):\n",
        "  global device\n",
        "  model.eval()\n",
        "  val_true_predicted = 0\n",
        "  val_size = 0.\n",
        "  val_loss = 0.\n",
        "\n",
        "  with torch.no_grad():    \n",
        "    for batch in tqdm.tqdm(val_loader, position=0, leave=True):\n",
        "      inputs = batch[0].to(device)\n",
        "      labels = batch[1].to(device)\n",
        "\n",
        "      output = model(inputs)['logits']\n",
        "\n",
        "      val_loss += criterion(output, labels).item()\n",
        "\n",
        "      pred_labels = torch.argmax(output, dim=-1)\n",
        "      val_true_predicted += (labels == pred_labels).sum()\n",
        "      val_size += int(labels.shape[0])\n",
        "\n",
        "\n",
        "  avg_val_loss = float(val_loss / len(val_loader))\n",
        "  val_acc = float(val_true_predicted / val_size)\n",
        "  return avg_val_loss, val_acc"
      ],
      "execution_count": null,
      "outputs": []
    },
    {
      "cell_type": "code",
      "metadata": {
        "id": "MX-fUrJRF4Im"
      },
      "source": [
        "def inference(model, test_loader):\n",
        "  global device\n",
        "  model.eval()\n",
        "  test_true_predicted = 0.\n",
        "  test_size = 0.\n",
        "\n",
        "  with torch.no_grad():\n",
        "    for batch in tqdm.tqdm(test_loader, position=0, leave=True):\n",
        "      inputs = batch[0].to(device)\n",
        "      labels = batch[1]\n",
        "\n",
        "      output = model(inputs)['logits']\n",
        "      pred_labels = torch.argmax(output, dim=-1)\n",
        "      test_true_predicted += (labels == pred_labels.cpu()).sum()\n",
        "      test_size += int(labels.shape[0])\n",
        "\n",
        "  test_acc = test_true_predicted / test_size\n",
        "  return float(test_acc)"
      ],
      "execution_count": null,
      "outputs": []
    },
    {
      "cell_type": "code",
      "metadata": {
        "id": "JBr4PIleMmy6",
        "colab": {
          "base_uri": "https://localhost:8080/",
          "height": 905
        },
        "outputId": "f2d79450-65ed-4836-9bd4-0fdea34e98a3"
      },
      "source": [
        "N_EPOCHS = 60\n",
        "CLIP = 3\n",
        "\n",
        "criterion = torch.nn.CrossEntropyLoss()\n",
        "optimizer = torch.optim.Adam(model.parameters(), lr=2e-5 , weight_decay=3e-2)\n",
        "scheduler = torch.optim.lr_scheduler.StepLR(optimizer, step_size=20, gamma=0.1)\n",
        "\n",
        "train_loss_history, train_acc_history = [], []\n",
        "val_loss_history, val_acc_history = [], []\n",
        "best_valid_loss = float('inf')\n",
        "\n",
        "\n",
        "for epoch in range(N_EPOCHS):\n",
        "\n",
        "  # simple warmup\n",
        "  if epoch == 0:\n",
        "    for g in optimizer.param_groups:\n",
        "      g['lr'] = 5e-7\n",
        "  if epoch == 1:\n",
        "    for g in optimizer.param_groups:\n",
        "      g['lr'] = 2e-5\n",
        "\n",
        "  avg_train_loss, train_acc = train(model, optimizer, criterion, CLIP, train_loader)\n",
        "  avg_val_loss, val_acc = evaluate(model, criterion, val_loader)\n",
        "  train_loss_history.append(avg_train_loss)\n",
        "  train_acc_history.append(train_acc)\n",
        "  val_loss_history.append(avg_val_loss)\n",
        "  val_acc_history.append(val_acc)\n",
        "  scheduler.step()\n",
        "  fig, ax = plt.subplots(nrows=1, ncols=2, figsize=(15, 8))\n",
        "\n",
        "  clear_output(True)\n",
        "  ax[0].plot(train_loss_history, label='train')\n",
        "  ax[0].plot(val_loss_history, label='val')\n",
        "  ax[0].set_xlabel('epoch')\n",
        "  ax[0].set_title('loss')\n",
        "  ax[0].legend()\n",
        "\n",
        "  ax[1].plot(train_acc_history, label='train')\n",
        "  ax[1].plot(val_acc_history, label='val')\n",
        "  ax[1].set_xlabel('epoch')\n",
        "  ax[1].set_title('acc')\n",
        "  ax[1].legend()\n",
        "  plt.show()\n",
        "\n",
        "  print('train_loss: {:.5}, val_loss: {:.5}, val_acc {:.4}'.format(avg_train_loss, avg_val_loss, val_acc))\n",
        "\n",
        "  if avg_val_loss < best_valid_loss:\n",
        "    best_valid_loss = avg_val_loss\n",
        "    torch.save(model.state_dict(), 'best-val-model.pt')\n",
        "    !cp best-val-model.pt /content/drive/MyDrive/best-val-model.pt "
      ],
      "execution_count": null,
      "outputs": [
        {
          "output_type": "display_data",
          "data": {
            "image/png": "[encoded data removed]",
            "text/plain": [
              "<Figure size 1080x576 with 2 Axes>"
            ]
          },
          "metadata": {
            "tags": [],
            "needs_background": "light"
          }
        },
        {
          "output_type": "stream",
          "text": [
            "train_loss: 1.0755, val_loss: 1.1173, val_acc 0.5952\n"
          ],
          "name": "stdout"
        },
        {
          "output_type": "stream",
          "text": [
            "  6%|▌         | 5/88 [00:11<03:12,  2.32s/it]"
          ],
          "name": "stderr"
        },
        {
          "output_type": "error",
          "ename": "KeyboardInterrupt",
          "evalue": "ignored",
          "traceback": [
            "\u001b[0;31m---------------------------------------------------------------------------\u001b[0m",
            "\u001b[0;31mKeyboardInterrupt\u001b[0m                         Traceback (most recent call last)",
            "\u001b[0;32m<ipython-input-32-329efdd06502>\u001b[0m in \u001b[0;36m<module>\u001b[0;34m()\u001b[0m\n\u001b[1;32m     26\u001b[0m   \u001b[0;31m#     g['lr'] = 2e-5\u001b[0m\u001b[0;34m\u001b[0m\u001b[0;34m\u001b[0m\u001b[0;34m\u001b[0m\u001b[0m\n\u001b[1;32m     27\u001b[0m \u001b[0;34m\u001b[0m\u001b[0m\n\u001b[0;32m---> 28\u001b[0;31m   \u001b[0mavg_train_loss\u001b[0m\u001b[0;34m,\u001b[0m \u001b[0mtrain_acc\u001b[0m \u001b[0;34m=\u001b[0m \u001b[0mtrain\u001b[0m\u001b[0;34m(\u001b[0m\u001b[0mmodel\u001b[0m\u001b[0;34m,\u001b[0m \u001b[0moptimizer\u001b[0m\u001b[0;34m,\u001b[0m \u001b[0mcriterion\u001b[0m\u001b[0;34m,\u001b[0m \u001b[0mCLIP\u001b[0m\u001b[0;34m,\u001b[0m \u001b[0mtrain_loader\u001b[0m\u001b[0;34m,\u001b[0m \u001b[0mscheduler\u001b[0m\u001b[0;34m)\u001b[0m\u001b[0;34m\u001b[0m\u001b[0;34m\u001b[0m\u001b[0m\n\u001b[0m\u001b[1;32m     29\u001b[0m   \u001b[0mavg_val_loss\u001b[0m\u001b[0;34m,\u001b[0m \u001b[0mval_acc\u001b[0m \u001b[0;34m=\u001b[0m \u001b[0mevaluate\u001b[0m\u001b[0;34m(\u001b[0m\u001b[0mmodel\u001b[0m\u001b[0;34m,\u001b[0m \u001b[0mcriterion\u001b[0m\u001b[0;34m,\u001b[0m \u001b[0mval_loader\u001b[0m\u001b[0;34m)\u001b[0m\u001b[0;34m\u001b[0m\u001b[0;34m\u001b[0m\u001b[0m\n\u001b[1;32m     30\u001b[0m   \u001b[0mtrain_loss_history\u001b[0m\u001b[0;34m.\u001b[0m\u001b[0mappend\u001b[0m\u001b[0;34m(\u001b[0m\u001b[0mavg_train_loss\u001b[0m\u001b[0;34m)\u001b[0m\u001b[0;34m\u001b[0m\u001b[0;34m\u001b[0m\u001b[0m\n",
            "\u001b[0;32m<ipython-input-8-ee58041f2cfb>\u001b[0m in \u001b[0;36mtrain\u001b[0;34m(model, optimizer, criterion, CLIP, train_loader, scheduler)\u001b[0m\n\u001b[1;32m     19\u001b[0m     \u001b[0mloss\u001b[0m \u001b[0;34m=\u001b[0m \u001b[0mcriterion\u001b[0m\u001b[0;34m(\u001b[0m\u001b[0moutput\u001b[0m\u001b[0;34m,\u001b[0m \u001b[0mlabels\u001b[0m\u001b[0;34m)\u001b[0m\u001b[0;34m\u001b[0m\u001b[0;34m\u001b[0m\u001b[0m\n\u001b[1;32m     20\u001b[0m     \u001b[0mloss\u001b[0m\u001b[0;34m.\u001b[0m\u001b[0mbackward\u001b[0m\u001b[0;34m(\u001b[0m\u001b[0;34m)\u001b[0m\u001b[0;34m\u001b[0m\u001b[0;34m\u001b[0m\u001b[0m\n\u001b[0;32m---> 21\u001b[0;31m     \u001b[0mtorch\u001b[0m\u001b[0;34m.\u001b[0m\u001b[0mnn\u001b[0m\u001b[0;34m.\u001b[0m\u001b[0mutils\u001b[0m\u001b[0;34m.\u001b[0m\u001b[0mclip_grad_norm_\u001b[0m\u001b[0;34m(\u001b[0m\u001b[0mmodel\u001b[0m\u001b[0;34m.\u001b[0m\u001b[0mparameters\u001b[0m\u001b[0;34m(\u001b[0m\u001b[0;34m)\u001b[0m\u001b[0;34m,\u001b[0m \u001b[0mCLIP\u001b[0m\u001b[0;34m)\u001b[0m\u001b[0;34m\u001b[0m\u001b[0;34m\u001b[0m\u001b[0m\n\u001b[0m\u001b[1;32m     22\u001b[0m     \u001b[0moptimizer\u001b[0m\u001b[0;34m.\u001b[0m\u001b[0mstep\u001b[0m\u001b[0;34m(\u001b[0m\u001b[0;34m)\u001b[0m\u001b[0;34m\u001b[0m\u001b[0;34m\u001b[0m\u001b[0m\n\u001b[1;32m     23\u001b[0m     \u001b[0;31m# scheduler.step()\u001b[0m\u001b[0;34m\u001b[0m\u001b[0;34m\u001b[0m\u001b[0;34m\u001b[0m\u001b[0m\n",
            "\u001b[0;32m/usr/local/lib/python3.7/dist-packages/torch/nn/utils/clip_grad.py\u001b[0m in \u001b[0;36mclip_grad_norm_\u001b[0;34m(parameters, max_norm, norm_type, error_if_nonfinite)\u001b[0m\n\u001b[1;32m     41\u001b[0m     \u001b[0;32melse\u001b[0m\u001b[0;34m:\u001b[0m\u001b[0;34m\u001b[0m\u001b[0;34m\u001b[0m\u001b[0m\n\u001b[1;32m     42\u001b[0m         \u001b[0mtotal_norm\u001b[0m \u001b[0;34m=\u001b[0m \u001b[0mtorch\u001b[0m\u001b[0;34m.\u001b[0m\u001b[0mnorm\u001b[0m\u001b[0;34m(\u001b[0m\u001b[0mtorch\u001b[0m\u001b[0;34m.\u001b[0m\u001b[0mstack\u001b[0m\u001b[0;34m(\u001b[0m\u001b[0;34m[\u001b[0m\u001b[0mtorch\u001b[0m\u001b[0;34m.\u001b[0m\u001b[0mnorm\u001b[0m\u001b[0;34m(\u001b[0m\u001b[0mp\u001b[0m\u001b[0;34m.\u001b[0m\u001b[0mgrad\u001b[0m\u001b[0;34m.\u001b[0m\u001b[0mdetach\u001b[0m\u001b[0;34m(\u001b[0m\u001b[0;34m)\u001b[0m\u001b[0;34m,\u001b[0m \u001b[0mnorm_type\u001b[0m\u001b[0;34m)\u001b[0m\u001b[0;34m.\u001b[0m\u001b[0mto\u001b[0m\u001b[0;34m(\u001b[0m\u001b[0mdevice\u001b[0m\u001b[0;34m)\u001b[0m \u001b[0;32mfor\u001b[0m \u001b[0mp\u001b[0m \u001b[0;32min\u001b[0m \u001b[0mparameters\u001b[0m\u001b[0;34m]\u001b[0m\u001b[0;34m)\u001b[0m\u001b[0;34m,\u001b[0m \u001b[0mnorm_type\u001b[0m\u001b[0;34m)\u001b[0m\u001b[0;34m\u001b[0m\u001b[0;34m\u001b[0m\u001b[0m\n\u001b[0;32m---> 43\u001b[0;31m     \u001b[0;32mif\u001b[0m \u001b[0mtotal_norm\u001b[0m\u001b[0;34m.\u001b[0m\u001b[0misnan\u001b[0m\u001b[0;34m(\u001b[0m\u001b[0;34m)\u001b[0m \u001b[0;32mor\u001b[0m \u001b[0mtotal_norm\u001b[0m\u001b[0;34m.\u001b[0m\u001b[0misinf\u001b[0m\u001b[0;34m(\u001b[0m\u001b[0;34m)\u001b[0m\u001b[0;34m:\u001b[0m\u001b[0;34m\u001b[0m\u001b[0;34m\u001b[0m\u001b[0m\n\u001b[0m\u001b[1;32m     44\u001b[0m         \u001b[0;32mif\u001b[0m \u001b[0merror_if_nonfinite\u001b[0m\u001b[0;34m:\u001b[0m\u001b[0;34m\u001b[0m\u001b[0;34m\u001b[0m\u001b[0m\n\u001b[1;32m     45\u001b[0m             raise RuntimeError(\n",
            "\u001b[0;31mKeyboardInterrupt\u001b[0m: "
          ]
        }
      ]
    },
    {
      "cell_type": "code",
      "metadata": {
        "colab": {
          "base_uri": "https://localhost:8080/"
        },
        "id": "To-LpBGRonPD",
        "outputId": "a9d4fae5-0acc-47cd-a1b7-35e91d928523"
      },
      "source": [
        "inference(model, test_loader)"
      ],
      "execution_count": null,
      "outputs": [
        {
          "output_type": "stream",
          "text": [
            "100%|██████████| 20/20 [00:18<00:00,  1.06it/s]\n"
          ],
          "name": "stderr"
        },
        {
          "output_type": "execute_result",
          "data": {
            "text/plain": [
              "0.5856000185012817"
            ]
          },
          "metadata": {
            "tags": []
          },
          "execution_count": 33
        }
      ]
    },
    {
      "cell_type": "markdown",
      "metadata": {
        "id": "_2tyuR77JG2u"
      },
      "source": [
        "**Found out that ViT as a complex model cannot be trained on small datesets properly. So let's try to fine-tune it**"
      ]
    },
    {
      "cell_type": "markdown",
      "metadata": {
        "id": "rLsmh6Im7LUW"
      },
      "source": [
        "# Fine-tuned model pretrained on ImageNet"
      ]
    },
    {
      "cell_type": "code",
      "metadata": {
        "id": "HYNOJOSx7Ovb"
      },
      "source": [
        "feature_extractor = ViTFeatureExtractor.from_pretrained('google/vit-base-patch16-224')\n",
        "model = ViTForImageClassification.from_pretrained('google/vit-base-patch16-224')\n",
        "\n",
        "model.classifier = torch.nn.Linear(in_features=768, out_features=10)\n",
        "\n",
        "for param in model.vit.embeddings.parameters():\n",
        "  param.requires_grad = False\n",
        "\n",
        "for param in model.vit.encoder.parameters():\n",
        "  param.requires_grad = False\n",
        "\n",
        "model.to(device);"
      ],
      "execution_count": null,
      "outputs": []
    },
    {
      "cell_type": "code",
      "metadata": {
        "id": "9tvgX57r7YL5"
      },
      "source": [
        "BATCH_SIZE = 128\n",
        "\n",
        "train_subset = Subset(train_data, np.arange(int(len(train_data) * 0.9)))\n",
        "val_subset = Subset(train_data, np.arange(int(len(train_data) * 0.9), len(train_data)))\n",
        "\n",
        "train_loader = DataLoader(train_subset, BATCH_SIZE, shuffle=True, collate_fn=vit_collate_fn)\n",
        "val_loader = DataLoader(val_subset, BATCH_SIZE, shuffle=False, collate_fn=vit_collate_fn)\n",
        "test_loader = DataLoader(test_data, BATCH_SIZE, shuffle=False, collate_fn=vit_collate_fn)"
      ],
      "execution_count": null,
      "outputs": []
    },
    {
      "cell_type": "code",
      "metadata": {
        "colab": {
          "base_uri": "https://localhost:8080/",
          "height": 530
        },
        "id": "fo_M80jF8R6Z",
        "outputId": "d4b93650-b3c1-4f2e-cd47-10b24eea6c7a"
      },
      "source": [
        "N_EPOCHS = 3\n",
        "CLIP = 3\n",
        "\n",
        "criterion = torch.nn.CrossEntropyLoss()\n",
        "optimizer = torch.optim.Adam(model.parameters(), lr=1e-4 , weight_decay=3e-2)\n",
        "\n",
        "\n",
        "train_loss_history, train_acc_history = [], []\n",
        "val_loss_history, val_acc_history = [], []\n",
        "best_valid_loss = float('inf')\n",
        "\n",
        "\n",
        "for epoch in range(N_EPOCHS):\n",
        "\n",
        "  avg_train_loss, train_acc = train(model, optimizer, criterion, CLIP, train_loader)\n",
        "  avg_val_loss, val_acc = evaluate(model, criterion, val_loader)\n",
        "  train_loss_history.append(avg_train_loss)\n",
        "  train_acc_history.append(train_acc)\n",
        "  val_loss_history.append(avg_val_loss)\n",
        "  val_acc_history.append(val_acc)\n",
        "  fig, ax = plt.subplots(nrows=1, ncols=2, figsize=(15, 8))\n",
        "\n",
        "  clear_output(True)\n",
        "  ax[0].plot(train_loss_history, label='train')\n",
        "  ax[0].plot(val_loss_history, label='val')\n",
        "  ax[0].set_xlabel('epoch')\n",
        "  ax[0].set_title('loss')\n",
        "  ax[0].legend()\n",
        "\n",
        "  ax[1].plot(train_acc_history, label='train')\n",
        "  ax[1].plot(val_acc_history, label='val')\n",
        "  ax[1].set_xlabel('epoch')\n",
        "  ax[1].set_title('acc')\n",
        "  ax[1].legend()\n",
        "  plt.show()\n",
        "\n",
        "  print('train_loss: {:.5}, val_loss: {:.5}, val_acc {:.4}'.format(avg_train_loss, avg_val_loss, val_acc))"
      ],
      "execution_count": null,
      "outputs": [
        {
          "output_type": "display_data",
          "data": {
            "image/png": "[encoded data removed]",
            "text/plain": [
              "<Figure size 1080x576 with 2 Axes>"
            ]
          },
          "metadata": {
            "tags": [],
            "needs_background": "light"
          }
        },
        {
          "output_type": "stream",
          "text": [
            "train_loss: 0.16459, val_loss: 0.15204, val_acc 0.9664\n"
          ],
          "name": "stdout"
        }
      ]
    },
    {
      "cell_type": "code",
      "metadata": {
        "id": "3iFhA-hKDOqZ",
        "colab": {
          "base_uri": "https://localhost:8080/"
        },
        "outputId": "d3e1024b-8e90-4cc7-998b-25e2e5dcc0ba"
      },
      "source": [
        "inference(model, test_loader)"
      ],
      "execution_count": null,
      "outputs": [
        {
          "output_type": "stream",
          "text": [
            "100%|██████████| 79/79 [04:57<00:00,  3.77s/it]\n"
          ],
          "name": "stderr"
        },
        {
          "output_type": "execute_result",
          "data": {
            "text/plain": [
              "0.960099995136261"
            ]
          },
          "metadata": {
            "tags": []
          },
          "execution_count": 12
        }
      ]
    }
  ]
}